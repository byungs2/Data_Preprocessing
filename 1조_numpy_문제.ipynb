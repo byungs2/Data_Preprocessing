{
 "cells": [
  {
   "cell_type": "markdown",
   "metadata": {},
   "source": [
    "## 1번. random메소드를 사용하되 어려번 실행되어도 같은 값이 나오는 (10,) 형태의 numpy array를 만어 주세요\n",
    "\n",
    "소문제\n",
    "1. array 요소의 합, 최댓값, 최댓값일때의 index 번호룰 출력하세요 \n",
    "- 브로드케스팅 기능을 이용해서 각 값의 크기를 2배 해주세요\n",
    "- 브로드케스팅을 이용하여 +3 값을 해주세요\n",
    "- 행렬을 같은 크기의 행렬을 만들어서 두 행렬의 곱을 구하세요(기존의 array와 다르게 값이 계속 바뀌게 만들어주세요)\n",
    "- 위에서 만든 행열과 기본의 행렬의 np.dot 연산을 진행해 주세요\n"
   ]
  },
  {
   "cell_type": "code",
   "execution_count": 2,
   "metadata": {},
   "outputs": [],
   "source": [
    "import numpy as np"
   ]
  },
  {
   "cell_type": "code",
   "execution_count": 9,
   "metadata": {},
   "outputs": [
    {
     "data": {
      "text/plain": [
       "array([0.5488135 , 0.71518937, 0.60276338, 0.54488318, 0.4236548 ,\n",
       "       0.64589411, 0.43758721, 0.891773  , 0.96366276, 0.38344152])"
      ]
     },
     "execution_count": 9,
     "metadata": {},
     "output_type": "execute_result"
    }
   ],
   "source": [
    "# 1번\n",
    "np.random.seed(0)\n",
    "data = np.random.rand(10)\n",
    "data"
   ]
  },
  {
   "cell_type": "code",
   "execution_count": 11,
   "metadata": {},
   "outputs": [
    {
     "data": {
      "text/plain": [
       "array([1.09762701, 1.43037873, 1.20552675, 1.08976637, 0.8473096 ,\n",
       "       1.29178823, 0.87517442, 1.783546  , 1.92732552, 0.76688304])"
      ]
     },
     "execution_count": 11,
     "metadata": {},
     "output_type": "execute_result"
    }
   ],
   "source": [
    "# 2번\n",
    "data = data*2\n",
    "data"
   ]
  },
  {
   "cell_type": "code",
   "execution_count": 12,
   "metadata": {},
   "outputs": [
    {
     "data": {
      "text/plain": [
       "array([4.09762701, 4.43037873, 4.20552675, 4.08976637, 3.8473096 ,\n",
       "       4.29178823, 3.87517442, 4.783546  , 4.92732552, 3.76688304])"
      ]
     },
     "execution_count": 12,
     "metadata": {},
     "output_type": "execute_result"
    }
   ],
   "source": [
    "# 3번\n",
    "data = data + 3\n",
    "data"
   ]
  },
  {
   "cell_type": "code",
   "execution_count": 26,
   "metadata": {},
   "outputs": [
    {
     "data": {
      "text/plain": [
       "array([3.67371354, 1.62843829, 1.8330416 , 3.64775814, 3.10167787,\n",
       "       3.02094074, 0.38839667, 4.39838738, 3.51929938, 3.76253985])"
      ]
     },
     "execution_count": 26,
     "metadata": {},
     "output_type": "execute_result"
    }
   ],
   "source": [
    "# 4번\n",
    "data2 = np.random.rand(10)\n",
    "data2\n",
    "data3 = data2 * data\n",
    "data3"
   ]
  },
  {
   "cell_type": "code",
   "execution_count": 28,
   "metadata": {},
   "outputs": [
    {
     "data": {
      "text/plain": [
       "123.85261759768939"
      ]
     },
     "execution_count": 28,
     "metadata": {},
     "output_type": "execute_result"
    }
   ],
   "source": [
    "# 5번\n",
    "data4 = np.dot(data, data3.T)\n",
    "data4"
   ]
  },
  {
   "cell_type": "markdown",
   "metadata": {},
   "source": [
    "## 2번\n",
    "\n",
    "array([0, 1, 2, 3, 4, 5, 6, 7, 8, 9]) 형태를\n",
    "\n",
    "array([[0, 1, 2, 3, 4],\n",
    "       [5, 6, 7, 8, 9]]) \n",
    "       \n",
    "       와\n",
    "       \n",
    "array([[0, 1],\n",
    "       [2, 3],\n",
    "       [4, 5],\n",
    "       [6, 7],\n",
    "       [8, 9]])\n",
    "       \n",
    "형태로 변경하세요\n",
    "      "
   ]
  },
  {
   "cell_type": "code",
   "execution_count": 32,
   "metadata": {},
   "outputs": [
    {
     "data": {
      "text/plain": [
       "array([[0, 1],\n",
       "       [2, 3],\n",
       "       [4, 5],\n",
       "       [6, 7],\n",
       "       [8, 9]])"
      ]
     },
     "execution_count": 32,
     "metadata": {},
     "output_type": "execute_result"
    }
   ],
   "source": [
    "data = np.arange(10)\n",
    "data\n",
    "#1\n",
    "data = data.reshape(2,-1)\n",
    "data\n",
    "\n",
    "#2\n",
    "data = data.reshape(5,-1)\n",
    "data"
   ]
  },
  {
   "cell_type": "markdown",
   "metadata": {},
   "source": [
    "## 3번. 마크다운에 있는 array를 복사하여 다음 문제를 풀어주세요\n",
    "\n",
    "data = np.array([ [[1,2,3,4], \n",
    "                  [5,6,7,8], \n",
    "                  [9,10,11,12]], \n",
    "                  [[21,22,23,24], \n",
    "                   [25,26,27,28], \n",
    "                   [29,30,31,32]] ])\n",
    "에서 \n",
    "\n",
    "1. 이 베열의 차원, 모양을 출력하세요 \n",
    "- 26을 뽑아주세요\n",
    "- 7 을 39로 변경해주세요\n"
   ]
  },
  {
   "cell_type": "code",
   "execution_count": 36,
   "metadata": {},
   "outputs": [
    {
     "name": "stdout",
     "output_type": "stream",
     "text": [
      "3\n",
      "(2, 3, 4)\n"
     ]
    }
   ],
   "source": [
    "data = np.array([ [[1,2,3,4], [5,6,7,8], [9,10,11,12]], [[21,22,23,24], [25,26,27,28], [29,30,31,32]] ]) \n",
    "#3-1번\n",
    "print(data.ndim)\n",
    "print(data.shape)"
   ]
  },
  {
   "cell_type": "code",
   "execution_count": 39,
   "metadata": {},
   "outputs": [
    {
     "data": {
      "text/plain": [
       "26"
      ]
     },
     "execution_count": 39,
     "metadata": {},
     "output_type": "execute_result"
    }
   ],
   "source": [
    "#3-2번\n",
    "data[1][1][1]"
   ]
  },
  {
   "cell_type": "code",
   "execution_count": 42,
   "metadata": {},
   "outputs": [
    {
     "data": {
      "text/plain": [
       "array([[[ 1,  2,  3,  4],\n",
       "        [ 5,  6, 39,  8],\n",
       "        [ 9, 10, 11, 12]],\n",
       "\n",
       "       [[21, 22, 23, 24],\n",
       "        [25, 26, 27, 28],\n",
       "        [29, 30, 31, 32]]])"
      ]
     },
     "execution_count": 42,
     "metadata": {},
     "output_type": "execute_result"
    }
   ],
   "source": [
    "#3-3번\n",
    "data[0][1][2] = 39\n",
    "data"
   ]
  },
  {
   "cell_type": "markdown",
   "metadata": {},
   "source": [
    "## 4번. 마크다운에 있는 array를 복사하여 다음 문제를 풀어주세요\n",
    "\n",
    "\n",
    "x = np.array([[1,2,3],[5,6,7]])\n",
    "y = np.array([[33,44,55], [11,22,66]])\n",
    "x,y\n",
    "\n",
    "이 두 array를 이용해서 concatenate 와 array 결합(np.array([x,y]))을 출력하고\n",
    "두 가지 결합 방법의 차이점을 기술하세요"
   ]
  },
  {
   "cell_type": "code",
   "execution_count": 43,
   "metadata": {},
   "outputs": [
    {
     "data": {
      "text/plain": [
       "array([[ 1,  2,  3],\n",
       "       [ 5,  6,  7],\n",
       "       [33, 44, 55],\n",
       "       [11, 22, 66]])"
      ]
     },
     "execution_count": 43,
     "metadata": {},
     "output_type": "execute_result"
    }
   ],
   "source": [
    "x = np.array([[1,2,3],[5,6,7]]) \n",
    "y = np.array([[33,44,55], [11,22,66]])\n",
    "# concatenate\n",
    "data = np.concatenate([x,y])\n",
    "data"
   ]
  },
  {
   "cell_type": "code",
   "execution_count": 45,
   "metadata": {},
   "outputs": [
    {
     "data": {
      "text/plain": [
       "array([[[ 1,  2,  3],\n",
       "        [ 5,  6,  7]],\n",
       "\n",
       "       [[33, 44, 55],\n",
       "        [11, 22, 66]]])"
      ]
     },
     "execution_count": 45,
     "metadata": {},
     "output_type": "execute_result"
    }
   ],
   "source": [
    "# array 결합\n",
    "data = np.array([x,y])\n",
    "data\n",
    "\n",
    "# concatenate는 차원이 기존 행렬과 같은 상태로 합쳐지고 array는 차원이 하나 커진다"
   ]
  },
  {
   "cell_type": "markdown",
   "metadata": {},
   "source": [
    "두 결합 방법의 차이점을 이 마크다운에 설명해주세요"
   ]
  },
  {
   "cell_type": "markdown",
   "metadata": {},
   "source": [
    "## 5. 마크다운에 있는 array를 복사하여 다음 문제를 풀어주세요\n",
    "\n",
    "a = np.array([[4,  3,  5,  7],\n",
    "              [1, 12, 11,  9],\n",
    "              [2, 15,  1, 14]])\n",
    "\n",
    "단, a array는 변경이 없어야 합니다.\n",
    "1. 각 행별로 열을 기준으로 오름차순 정렬\n",
    "- 각 열별로 행을 기준으로 오름차순 정렬"
   ]
  },
  {
   "cell_type": "code",
   "execution_count": 47,
   "metadata": {},
   "outputs": [
    {
     "data": {
      "text/plain": [
       "array([[ 4,  3,  5,  7],\n",
       "       [ 1, 12, 11,  9],\n",
       "       [ 2, 15,  1, 14]])"
      ]
     },
     "execution_count": 47,
     "metadata": {},
     "output_type": "execute_result"
    }
   ],
   "source": [
    "a = np.array([[4, 3, 5, 7], [1, 12, 11, 9], [2, 15, 1, 14]])\n",
    "# a array 출력\n",
    "a"
   ]
  },
  {
   "cell_type": "code",
   "execution_count": 50,
   "metadata": {},
   "outputs": [
    {
     "data": {
      "text/plain": [
       "array([[ 3,  4,  5,  7],\n",
       "       [ 1,  9, 11, 12],\n",
       "       [ 1,  2, 14, 15]])"
      ]
     },
     "execution_count": 50,
     "metadata": {},
     "output_type": "execute_result"
    }
   ],
   "source": [
    "#각 행별로 열을 기준으로 오름차순 정렬\n",
    "b = np.sort(a, axis = 1)\n",
    "b"
   ]
  },
  {
   "cell_type": "code",
   "execution_count": 49,
   "metadata": {},
   "outputs": [
    {
     "data": {
      "text/plain": [
       "array([[ 1,  3,  1,  7],\n",
       "       [ 2, 12,  5,  9],\n",
       "       [ 4, 15, 11, 14]])"
      ]
     },
     "execution_count": 49,
     "metadata": {},
     "output_type": "execute_result"
    }
   ],
   "source": [
    "#각 열별로 행을 기준으로 오름차순 정렬\n",
    "c = np.sort(a, axis = 0)\n",
    "c"
   ]
  },
  {
   "cell_type": "code",
   "execution_count": 51,
   "metadata": {},
   "outputs": [
    {
     "data": {
      "text/plain": [
       "array([[ 4,  3,  5,  7],\n",
       "       [ 1, 12, 11,  9],\n",
       "       [ 2, 15,  1, 14]])"
      ]
     },
     "execution_count": 51,
     "metadata": {},
     "output_type": "execute_result"
    }
   ],
   "source": [
    "# a array 출력\n",
    "a"
   ]
  }
 ],
 "metadata": {
  "kernelspec": {
   "display_name": "Python 3",
   "language": "python",
   "name": "python3"
  },
  "language_info": {
   "codemirror_mode": {
    "name": "ipython",
    "version": 3
   },
   "file_extension": ".py",
   "mimetype": "text/x-python",
   "name": "python",
   "nbconvert_exporter": "python",
   "pygments_lexer": "ipython3",
   "version": "3.7.6"
  }
 },
 "nbformat": 4,
 "nbformat_minor": 4
}
